{
 "cells": [
  {
   "cell_type": "code",
   "execution_count": 1,
   "metadata": {},
   "outputs": [],
   "source": [
    "# for sticky label\n",
    "from IPython.display import HTML\n",
    "# import libraries\n",
    "import pandas as pd\n",
    "# set print options to the maximum\n",
    "pd.set_option('display.max_rows', None)\n",
    "pd.set_option('display.max_columns', None)\n",
    "pd.set_option('display.width', None)\n",
    "pd.options.display.max_colwidth=200\n",
    "# remove scientific float printing\n",
    "pd.set_option('display.float_format', lambda x: '%.3f' % x)\n",
    "def sticky(df):\n",
    "    # observe whole data with stickey label\n",
    "    df_html = df.to_html() \n",
    "    # CSS styling \n",
    "    style = \"\"\"\n",
    "    <style scoped>\n",
    "    .dataframe-div {\n",
    "      max-height: 300px;\n",
    "      overflow: auto;\n",
    "      position: relative;\n",
    "    }\n",
    "\n",
    "    .dataframe thead th {\n",
    "      position: -webkit-sticky; /* for Safari */\n",
    "      position: sticky;\n",
    "      top: 0;\n",
    "      background: black;\n",
    "      color: white;\n",
    "    }\n",
    "\n",
    "    .dataframe thead th:first-child {\n",
    "      left: 0;\n",
    "      z-index: 1;\n",
    "    }\n",
    "\n",
    "    .dataframe tbody tr th:only-of-type {\n",
    "            vertical-align: middle;\n",
    "        }\n",
    "\n",
    "    .dataframe tbody tr th {\n",
    "      position: -webkit-sticky; /* for Safari */\n",
    "      position: sticky;\n",
    "      left: 0;\n",
    "      background: black;\n",
    "      color: white;\n",
    "      vertical-align: top;\n",
    "    }\n",
    "</style>\n",
    "\"\"\"\n",
    "    # Concatenating to single string\n",
    "    df_html = style+'<div class=\"dataframe-div\">'+df_html+\"\\n</div>\"\n",
    "\n",
    "    # Displaying df with sticky header and index\n",
    "    HTML(df_html)"
   ]
  },
  {
   "cell_type": "code",
   "execution_count": null,
   "metadata": {},
   "outputs": [],
   "source": []
  }
 ],
 "metadata": {
  "kernelspec": {
   "display_name": "Python 3",
   "language": "python",
   "name": "python3"
  },
  "language_info": {
   "codemirror_mode": {
    "name": "ipython",
    "version": 3
   },
   "file_extension": ".py",
   "mimetype": "text/x-python",
   "name": "python",
   "nbconvert_exporter": "python",
   "pygments_lexer": "ipython3",
   "version": "3.7.6"
  }
 },
 "nbformat": 4,
 "nbformat_minor": 4
}
