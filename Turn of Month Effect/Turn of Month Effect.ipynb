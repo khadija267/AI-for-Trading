{
 "cells": [
  {
   "cell_type": "markdown",
   "id": "ea1b0c72",
   "metadata": {},
   "source": [
    "# Turn of Month Effect"
   ]
  },
  {
   "cell_type": "markdown",
   "id": "297b749b",
   "metadata": {},
   "source": [
    "    Strategy is equity prices increase during the last 4 days and the first 3 days of each month.\n",
    "    We buy the BTC on close at the first day of the month and sell it on the following day.\n",
    "    \n",
    "    Title: Turn of the Month Strategy Template\n",
    "    Description: The strategy buys the asset on the last day of a month and\n",
    "    sells the asset on the first day of the next month. If the asset price\n",
    "    is greater than the 10-day SMA then the strategy continues to hold the\n",
    "    asset.\n",
    "    Dataset: BTC_1min\n"
   ]
  },
  {
   "cell_type": "code",
   "execution_count": 1,
   "id": "d0f0d45c",
   "metadata": {},
   "outputs": [],
   "source": [
    "import pandas as pd\n",
    "from functions.framing import crypto_day_framing\n",
    "import numpy as np\n",
    "import matplotlib.pyplot as plt\n",
    "%matplotlib inline"
   ]
  },
  {
   "cell_type": "code",
   "execution_count": 2,
   "id": "0e94cc24",
   "metadata": {},
   "outputs": [],
   "source": [
    "BTC= pd.read_csv('crypto-active_1min_1nfzd/BTC_1min.csv')\n",
    "# convert Time col's data type yo datetime data type\n",
    "BTC['Time']=pd.to_datetime(BTC['Time'], format='%Y-%m-%d %H:%M',errors='coerce')\n",
    "# convert time zone from eastern to pacific time zone and set ambiguity term to true to pick one if the clock\n",
    "# shows 2 different times after converting\n",
    "BTC['Time']=BTC['Time'].dt.tz_localize('US/Eastern',ambiguous=True).dt.tz_convert('US/Pacific')\n",
    "# remove unnecessary information from the time stamps\n",
    "BTC['Time']=BTC['Time'].astype(str).str[:-6]\n",
    "# convert from string data time back to date time data type\n",
    "BTC['Time']=pd.to_datetime(BTC['Time'], format='%Y-%m-%d %H:%M',errors='coerce')\n",
    "# setting time column as an index\n",
    "BTC=BTC.set_index('Time')\n",
    "# getting days from minute data\n",
    "BTC=crypto_day_framing(BTC)\n",
    "BTC=BTC.reset_index()"
   ]
  },
  {
   "cell_type": "code",
   "execution_count": 3,
   "id": "03f24198",
   "metadata": {},
   "outputs": [],
   "source": [
    "# calculate daily change of close price\n",
    "BTC['Daily_Change']=BTC['Last'].pct_change()"
   ]
  },
  {
   "cell_type": "markdown",
   "id": "e4c635f0",
   "metadata": {},
   "source": [
    "# Generate trading signals"
   ]
  },
  {
   "cell_type": "markdown",
   "id": "6f69dc10",
   "metadata": {},
   "source": [
    "We place a value of 1 in a place of the first day of every month by comparing the month of the current date with the month of the previous date "
   ]
  },
  {
   "cell_type": "code",
   "execution_count": 4,
   "id": "10ec7075",
   "metadata": {},
   "outputs": [],
   "source": [
    "BTC['ToM_Signal']=np.where(BTC.Time.dt.month!=BTC.Time.dt.month.shift(1),1,0)\n",
    "BTC.set_index('Time',inplace=True)"
   ]
  },
  {
   "cell_type": "code",
   "execution_count": 5,
   "id": "352c740f",
   "metadata": {},
   "outputs": [
    {
     "data": {
      "text/html": [
       "<div>\n",
       "<style scoped>\n",
       "    .dataframe tbody tr th:only-of-type {\n",
       "        vertical-align: middle;\n",
       "    }\n",
       "\n",
       "    .dataframe tbody tr th {\n",
       "        vertical-align: top;\n",
       "    }\n",
       "\n",
       "    .dataframe thead th {\n",
       "        text-align: right;\n",
       "    }\n",
       "</style>\n",
       "<table border=\"1\" class=\"dataframe\">\n",
       "  <thead>\n",
       "    <tr style=\"text-align: right;\">\n",
       "      <th></th>\n",
       "      <th>Open</th>\n",
       "      <th>High</th>\n",
       "      <th>Low</th>\n",
       "      <th>Last</th>\n",
       "      <th>Volume</th>\n",
       "      <th>Daily_Change</th>\n",
       "      <th>ToM_Signal</th>\n",
       "    </tr>\n",
       "    <tr>\n",
       "      <th>Time</th>\n",
       "      <th></th>\n",
       "      <th></th>\n",
       "      <th></th>\n",
       "      <th></th>\n",
       "      <th></th>\n",
       "      <th></th>\n",
       "      <th></th>\n",
       "    </tr>\n",
       "  </thead>\n",
       "  <tbody>\n",
       "    <tr>\n",
       "      <th>2013-03-31</th>\n",
       "      <td>93.15501</td>\n",
       "      <td>94.480000</td>\n",
       "      <td>93.15501</td>\n",
       "      <td>94.000010</td>\n",
       "      <td>272.170500</td>\n",
       "      <td>NaN</td>\n",
       "      <td>1</td>\n",
       "    </tr>\n",
       "    <tr>\n",
       "      <th>2013-04-01</th>\n",
       "      <td>93.55000</td>\n",
       "      <td>106.000000</td>\n",
       "      <td>93.55000</td>\n",
       "      <td>101.074280</td>\n",
       "      <td>14592.254889</td>\n",
       "      <td>0.075258</td>\n",
       "      <td>1</td>\n",
       "    </tr>\n",
       "    <tr>\n",
       "      <th>2013-04-02</th>\n",
       "      <td>102.79801</td>\n",
       "      <td>140.031667</td>\n",
       "      <td>102.00000</td>\n",
       "      <td>136.548212</td>\n",
       "      <td>25376.231959</td>\n",
       "      <td>0.350969</td>\n",
       "      <td>0</td>\n",
       "    </tr>\n",
       "    <tr>\n",
       "      <th>2013-04-03</th>\n",
       "      <td>134.25000</td>\n",
       "      <td>146.880000</td>\n",
       "      <td>101.51088</td>\n",
       "      <td>131.398620</td>\n",
       "      <td>28638.478452</td>\n",
       "      <td>-0.037713</td>\n",
       "      <td>0</td>\n",
       "    </tr>\n",
       "    <tr>\n",
       "      <th>2013-04-04</th>\n",
       "      <td>131.19038</td>\n",
       "      <td>143.000000</td>\n",
       "      <td>128.00000</td>\n",
       "      <td>136.700000</td>\n",
       "      <td>15320.768250</td>\n",
       "      <td>0.040346</td>\n",
       "      <td>0</td>\n",
       "    </tr>\n",
       "  </tbody>\n",
       "</table>\n",
       "</div>"
      ],
      "text/plain": [
       "                 Open        High        Low        Last        Volume  \\\n",
       "Time                                                                     \n",
       "2013-03-31   93.15501   94.480000   93.15501   94.000010    272.170500   \n",
       "2013-04-01   93.55000  106.000000   93.55000  101.074280  14592.254889   \n",
       "2013-04-02  102.79801  140.031667  102.00000  136.548212  25376.231959   \n",
       "2013-04-03  134.25000  146.880000  101.51088  131.398620  28638.478452   \n",
       "2013-04-04  131.19038  143.000000  128.00000  136.700000  15320.768250   \n",
       "\n",
       "            Daily_Change  ToM_Signal  \n",
       "Time                                  \n",
       "2013-03-31           NaN           1  \n",
       "2013-04-01      0.075258           1  \n",
       "2013-04-02      0.350969           0  \n",
       "2013-04-03     -0.037713           0  \n",
       "2013-04-04      0.040346           0  "
      ]
     },
     "execution_count": 5,
     "metadata": {},
     "output_type": "execute_result"
    }
   ],
   "source": [
    "BTC.head()"
   ]
  },
  {
   "cell_type": "markdown",
   "id": "4823c1dd",
   "metadata": {},
   "source": [
    "# Calculate returns"
   ]
  },
  {
   "cell_type": "markdown",
   "id": "0f716e4f",
   "metadata": {},
   "source": [
    "returns are obtained from multiplying the daily change by the turn of the month signal"
   ]
  },
  {
   "cell_type": "code",
   "execution_count": 6,
   "id": "e1f030bc",
   "metadata": {},
   "outputs": [
    {
     "name": "stdout",
     "output_type": "stream",
     "text": [
      "strategy return is 48.00\n"
     ]
    }
   ],
   "source": [
    "BTC['returns']=BTC['Daily_Change']*BTC['ToM_Signal']\n",
    "# cumulative returns\n",
    "cumulative_returns=((BTC['returns']+1).cumprod())\n",
    "# strategy returns\n",
    "strategy_returns=(cumulative_returns.iloc[-1]-1)*100\n",
    "print(\"strategy return is %.2f\"%strategy_returns)"
   ]
  },
  {
   "cell_type": "code",
   "execution_count": 7,
   "id": "f215a463",
   "metadata": {},
   "outputs": [
    {
     "name": "stdout",
     "output_type": "stream",
     "text": [
      "the compounded annual growth rate is 3.39\n"
     ]
    }
   ],
   "source": [
    "# trading days\n",
    "days=len(cumulative_returns)\n",
    "# compounded annual growth rate\n",
    "cagr=(cumulative_returns.iloc[-1]**(252/days)-1)*100\n",
    "print(\"the compounded annual growth rate is %.2f\"%cagr)"
   ]
  },
  {
   "cell_type": "markdown",
   "id": "75cab739",
   "metadata": {},
   "source": [
    "# Strategy Return Plots"
   ]
  },
  {
   "cell_type": "code",
   "execution_count": 8,
   "id": "96f7a0b2",
   "metadata": {},
   "outputs": [
    {
     "data": {
      "image/png": "[encoded data removed]",
      "text/plain": [
       "<Figure size 720x504 with 1 Axes>"
      ]
     },
     "metadata": {
      "needs_background": "light"
     },
     "output_type": "display_data"
    }
   ],
   "source": [
    "plt.figure(figsize=(10,7));\n",
    "cumulative_returns.plot();\n",
    "plt.grid();\n",
    "plt.title(\"Strategy Return\",fontsize=14)\n",
    "plt.xticks(fontsize=12);\n",
    "plt.yticks(fontsize=12);\n",
    "plt.xlabel(\"Years\");\n",
    "plt.ylabel(\"cumulative returns\");\n"
   ]
  },
  {
   "cell_type": "markdown",
   "id": "d3e75ab0",
   "metadata": {},
   "source": [
    "# Draw Down Calculation"
   ]
  },
  {
   "cell_type": "code",
   "execution_count": 9,
   "id": "5c30d048",
   "metadata": {},
   "outputs": [
    {
     "name": "stdout",
     "output_type": "stream",
     "text": [
      "The maximum draw down is -24.30\n"
     ]
    }
   ],
   "source": [
    "max_run=np.maximum.accumulate(cumulative_returns.dropna())\n",
    "# ensure value isn't below 1\n",
    "max_run[max_run<1]=1\n",
    "# draw down percentage\n",
    "dd=(cumulative_returns)/max_run-1\n",
    "max_dd=dd.min()*100\n",
    "print(\"The maximum draw down is %.2f\"%max_dd)"
   ]
  },
  {
   "cell_type": "code",
   "execution_count": 10,
   "id": "c36cc3af",
   "metadata": {},
   "outputs": [
    {
     "data": {
      "image/png": "[encoded data removed]",
      "text/plain": [
       "<Figure size 720x504 with 1 Axes>"
      ]
     },
     "metadata": {
      "needs_background": "light"
     },
     "output_type": "display_data"
    }
   ],
   "source": [
    "# plot draw down\n",
    "plt.figure(figsize=(10,7));\n",
    "dd.plot(color='r');\n",
    "plt.grid();\n",
    "plt.fill_between(dd.index,dd.values,color='red')\n",
    "plt.title(\"Strategy Draw Down\",fontsize=14)\n",
    "plt.xticks(fontsize=12);\n",
    "plt.yticks(fontsize=12);\n",
    "plt.ylabel(\"Returns\");\n",
    "plt.xlabel(\"Years\");\n"
   ]
  },
  {
   "cell_type": "markdown",
   "id": "a696b90a",
   "metadata": {},
   "source": [
    "## Add Moving Average Filter as a Trend Factor "
   ]
  },
  {
   "cell_type": "markdown",
   "id": "dc4c8eb8",
   "metadata": {},
   "source": [
    "    If the price is above 10 days rolling mean of close price , we will hold our position."
   ]
  },
  {
   "cell_type": "code",
   "execution_count": 11,
   "id": "0c558d51",
   "metadata": {},
   "outputs": [
    {
     "data": {
      "text/html": [
       "<div>\n",
       "<style scoped>\n",
       "    .dataframe tbody tr th:only-of-type {\n",
       "        vertical-align: middle;\n",
       "    }\n",
       "\n",
       "    .dataframe tbody tr th {\n",
       "        vertical-align: top;\n",
       "    }\n",
       "\n",
       "    .dataframe thead th {\n",
       "        text-align: right;\n",
       "    }\n",
       "</style>\n",
       "<table border=\"1\" class=\"dataframe\">\n",
       "  <thead>\n",
       "    <tr style=\"text-align: right;\">\n",
       "      <th></th>\n",
       "      <th>Open</th>\n",
       "      <th>High</th>\n",
       "      <th>Low</th>\n",
       "      <th>Last</th>\n",
       "      <th>Volume</th>\n",
       "      <th>Daily_Change</th>\n",
       "      <th>ToM_Signal</th>\n",
       "      <th>returns</th>\n",
       "      <th>MA_10</th>\n",
       "      <th>MA_Signals</th>\n",
       "    </tr>\n",
       "    <tr>\n",
       "      <th>Time</th>\n",
       "      <th></th>\n",
       "      <th></th>\n",
       "      <th></th>\n",
       "      <th></th>\n",
       "      <th></th>\n",
       "      <th></th>\n",
       "      <th></th>\n",
       "      <th></th>\n",
       "      <th></th>\n",
       "      <th></th>\n",
       "    </tr>\n",
       "  </thead>\n",
       "  <tbody>\n",
       "    <tr>\n",
       "      <th>2021-05-10</th>\n",
       "      <td>59052.00</td>\n",
       "      <td>59603.00</td>\n",
       "      <td>53470.00000</td>\n",
       "      <td>54650.20</td>\n",
       "      <td>62651.664747</td>\n",
       "      <td>-0.074489</td>\n",
       "      <td>0</td>\n",
       "      <td>-0.0</td>\n",
       "      <td>57021.516</td>\n",
       "      <td>1</td>\n",
       "    </tr>\n",
       "    <tr>\n",
       "      <th>2021-05-11</th>\n",
       "      <td>54649.69</td>\n",
       "      <td>57424.54</td>\n",
       "      <td>54138.73738</td>\n",
       "      <td>57170.00</td>\n",
       "      <td>36260.027430</td>\n",
       "      <td>0.046108</td>\n",
       "      <td>0</td>\n",
       "      <td>0.0</td>\n",
       "      <td>56968.442</td>\n",
       "      <td>0</td>\n",
       "    </tr>\n",
       "    <tr>\n",
       "      <th>2021-05-12</th>\n",
       "      <td>57260.16</td>\n",
       "      <td>58041.00</td>\n",
       "      <td>45000.00000</td>\n",
       "      <td>50321.01</td>\n",
       "      <td>89552.768759</td>\n",
       "      <td>-0.119800</td>\n",
       "      <td>0</td>\n",
       "      <td>-0.0</td>\n",
       "      <td>56191.022</td>\n",
       "      <td>1</td>\n",
       "    </tr>\n",
       "    <tr>\n",
       "      <th>2021-05-13</th>\n",
       "      <td>50321.01</td>\n",
       "      <td>51420.72</td>\n",
       "      <td>46897.08000</td>\n",
       "      <td>49522.71</td>\n",
       "      <td>80239.716755</td>\n",
       "      <td>-0.015864</td>\n",
       "      <td>0</td>\n",
       "      <td>-0.0</td>\n",
       "      <td>55569.571</td>\n",
       "      <td>0</td>\n",
       "    </tr>\n",
       "    <tr>\n",
       "      <th>2021-05-14</th>\n",
       "      <td>49528.69</td>\n",
       "      <td>51572.00</td>\n",
       "      <td>48873.40000</td>\n",
       "      <td>49836.18</td>\n",
       "      <td>42543.110561</td>\n",
       "      <td>0.006330</td>\n",
       "      <td>0</td>\n",
       "      <td>0.0</td>\n",
       "      <td>55044.916</td>\n",
       "      <td>0</td>\n",
       "    </tr>\n",
       "  </tbody>\n",
       "</table>\n",
       "</div>"
      ],
      "text/plain": [
       "                Open      High          Low      Last        Volume  \\\n",
       "Time                                                                  \n",
       "2021-05-10  59052.00  59603.00  53470.00000  54650.20  62651.664747   \n",
       "2021-05-11  54649.69  57424.54  54138.73738  57170.00  36260.027430   \n",
       "2021-05-12  57260.16  58041.00  45000.00000  50321.01  89552.768759   \n",
       "2021-05-13  50321.01  51420.72  46897.08000  49522.71  80239.716755   \n",
       "2021-05-14  49528.69  51572.00  48873.40000  49836.18  42543.110561   \n",
       "\n",
       "            Daily_Change  ToM_Signal  returns      MA_10  MA_Signals  \n",
       "Time                                                                  \n",
       "2021-05-10     -0.074489           0     -0.0  57021.516           1  \n",
       "2021-05-11      0.046108           0      0.0  56968.442           0  \n",
       "2021-05-12     -0.119800           0     -0.0  56191.022           1  \n",
       "2021-05-13     -0.015864           0     -0.0  55569.571           0  \n",
       "2021-05-14      0.006330           0      0.0  55044.916           0  "
      ]
     },
     "execution_count": 11,
     "metadata": {},
     "output_type": "execute_result"
    }
   ],
   "source": [
    "BTC['MA_10']=BTC['Last'].rolling(10).mean()\n",
    "# MA Signals\n",
    "BTC['MA_Signals']=np.where(BTC['Last'].shift(1)>BTC['MA_10'].shift(1),1,0)\n",
    "BTC.tail()"
   ]
  },
  {
   "cell_type": "code",
   "execution_count": 12,
   "id": "7069f47f",
   "metadata": {},
   "outputs": [
    {
     "name": "stdout",
     "output_type": "stream",
     "text": [
      "strategy return is 48.00\n"
     ]
    }
   ],
   "source": [
    "# Strategy return by MA\n",
    "BTC['returns_MA']=BTC['Daily_Change']*BTC['ToM_Signal'] \\\n",
    "*BTC['MA_Signals']\n",
    "# cumulative returns\n",
    "cumulative_returns_MA=((BTC['returns_MA']+1).cumprod())\n",
    "# strategy returns\n",
    "strategy_returns_MA=(cumulative_returns_MA.iloc[-1]-1)*100\n",
    "print(\"strategy return is %.2f\"%strategy_returns)"
   ]
  },
  {
   "cell_type": "code",
   "execution_count": 13,
   "id": "c6b90faf",
   "metadata": {},
   "outputs": [
    {
     "data": {
      "text/html": [
       "<div>\n",
       "<style scoped>\n",
       "    .dataframe tbody tr th:only-of-type {\n",
       "        vertical-align: middle;\n",
       "    }\n",
       "\n",
       "    .dataframe tbody tr th {\n",
       "        vertical-align: top;\n",
       "    }\n",
       "\n",
       "    .dataframe thead th {\n",
       "        text-align: right;\n",
       "    }\n",
       "</style>\n",
       "<table border=\"1\" class=\"dataframe\">\n",
       "  <thead>\n",
       "    <tr style=\"text-align: right;\">\n",
       "      <th></th>\n",
       "      <th>Open</th>\n",
       "      <th>High</th>\n",
       "      <th>Low</th>\n",
       "      <th>Last</th>\n",
       "      <th>Volume</th>\n",
       "      <th>Daily_Change</th>\n",
       "      <th>ToM_Signal</th>\n",
       "      <th>returns</th>\n",
       "      <th>MA_10</th>\n",
       "      <th>MA_Signals</th>\n",
       "      <th>returns_MA</th>\n",
       "    </tr>\n",
       "    <tr>\n",
       "      <th>Time</th>\n",
       "      <th></th>\n",
       "      <th></th>\n",
       "      <th></th>\n",
       "      <th></th>\n",
       "      <th></th>\n",
       "      <th></th>\n",
       "      <th></th>\n",
       "      <th></th>\n",
       "      <th></th>\n",
       "      <th></th>\n",
       "      <th></th>\n",
       "    </tr>\n",
       "  </thead>\n",
       "  <tbody>\n",
       "    <tr>\n",
       "      <th>2021-05-10</th>\n",
       "      <td>59052.00</td>\n",
       "      <td>59603.00</td>\n",
       "      <td>53470.00000</td>\n",
       "      <td>54650.20</td>\n",
       "      <td>62651.664747</td>\n",
       "      <td>-0.074489</td>\n",
       "      <td>0</td>\n",
       "      <td>-0.0</td>\n",
       "      <td>57021.516</td>\n",
       "      <td>1</td>\n",
       "      <td>-0.0</td>\n",
       "    </tr>\n",
       "    <tr>\n",
       "      <th>2021-05-11</th>\n",
       "      <td>54649.69</td>\n",
       "      <td>57424.54</td>\n",
       "      <td>54138.73738</td>\n",
       "      <td>57170.00</td>\n",
       "      <td>36260.027430</td>\n",
       "      <td>0.046108</td>\n",
       "      <td>0</td>\n",
       "      <td>0.0</td>\n",
       "      <td>56968.442</td>\n",
       "      <td>0</td>\n",
       "      <td>0.0</td>\n",
       "    </tr>\n",
       "    <tr>\n",
       "      <th>2021-05-12</th>\n",
       "      <td>57260.16</td>\n",
       "      <td>58041.00</td>\n",
       "      <td>45000.00000</td>\n",
       "      <td>50321.01</td>\n",
       "      <td>89552.768759</td>\n",
       "      <td>-0.119800</td>\n",
       "      <td>0</td>\n",
       "      <td>-0.0</td>\n",
       "      <td>56191.022</td>\n",
       "      <td>1</td>\n",
       "      <td>-0.0</td>\n",
       "    </tr>\n",
       "    <tr>\n",
       "      <th>2021-05-13</th>\n",
       "      <td>50321.01</td>\n",
       "      <td>51420.72</td>\n",
       "      <td>46897.08000</td>\n",
       "      <td>49522.71</td>\n",
       "      <td>80239.716755</td>\n",
       "      <td>-0.015864</td>\n",
       "      <td>0</td>\n",
       "      <td>-0.0</td>\n",
       "      <td>55569.571</td>\n",
       "      <td>0</td>\n",
       "      <td>-0.0</td>\n",
       "    </tr>\n",
       "    <tr>\n",
       "      <th>2021-05-14</th>\n",
       "      <td>49528.69</td>\n",
       "      <td>51572.00</td>\n",
       "      <td>48873.40000</td>\n",
       "      <td>49836.18</td>\n",
       "      <td>42543.110561</td>\n",
       "      <td>0.006330</td>\n",
       "      <td>0</td>\n",
       "      <td>0.0</td>\n",
       "      <td>55044.916</td>\n",
       "      <td>0</td>\n",
       "      <td>0.0</td>\n",
       "    </tr>\n",
       "  </tbody>\n",
       "</table>\n",
       "</div>"
      ],
      "text/plain": [
       "                Open      High          Low      Last        Volume  \\\n",
       "Time                                                                  \n",
       "2021-05-10  59052.00  59603.00  53470.00000  54650.20  62651.664747   \n",
       "2021-05-11  54649.69  57424.54  54138.73738  57170.00  36260.027430   \n",
       "2021-05-12  57260.16  58041.00  45000.00000  50321.01  89552.768759   \n",
       "2021-05-13  50321.01  51420.72  46897.08000  49522.71  80239.716755   \n",
       "2021-05-14  49528.69  51572.00  48873.40000  49836.18  42543.110561   \n",
       "\n",
       "            Daily_Change  ToM_Signal  returns      MA_10  MA_Signals  \\\n",
       "Time                                                                   \n",
       "2021-05-10     -0.074489           0     -0.0  57021.516           1   \n",
       "2021-05-11      0.046108           0      0.0  56968.442           0   \n",
       "2021-05-12     -0.119800           0     -0.0  56191.022           1   \n",
       "2021-05-13     -0.015864           0     -0.0  55569.571           0   \n",
       "2021-05-14      0.006330           0      0.0  55044.916           0   \n",
       "\n",
       "            returns_MA  \n",
       "Time                    \n",
       "2021-05-10        -0.0  \n",
       "2021-05-11         0.0  \n",
       "2021-05-12        -0.0  \n",
       "2021-05-13        -0.0  \n",
       "2021-05-14         0.0  "
      ]
     },
     "execution_count": 13,
     "metadata": {},
     "output_type": "execute_result"
    }
   ],
   "source": [
    "BTC.tail()"
   ]
  },
  {
   "cell_type": "code",
   "execution_count": 14,
   "id": "27e366b8",
   "metadata": {},
   "outputs": [
    {
     "name": "stdout",
     "output_type": "stream",
     "text": [
      "the compounded annual growth rate is 5.46\n"
     ]
    }
   ],
   "source": [
    "# trading days\n",
    "days=len(cumulative_returns_MA)\n",
    "# compounded annual growth rate\n",
    "cagr=(cumulative_returns_MA.iloc[-1]**(252/days)-1)*100\n",
    "print(\"the compounded annual growth rate is %.2f\"%cagr)"
   ]
  },
  {
   "cell_type": "code",
   "execution_count": 15,
   "id": "7e23f1e8",
   "metadata": {},
   "outputs": [
    {
     "data": {
      "image/png": "[encoded data removed]",
      "text/plain": [
       "<Figure size 720x504 with 1 Axes>"
      ]
     },
     "metadata": {
      "needs_background": "light"
     },
     "output_type": "display_data"
    }
   ],
   "source": [
    "plt.figure(figsize=(10,7));\n",
    "cumulative_returns_MA.plot();\n",
    "plt.grid();\n",
    "plt.title(\"Strategy Return\",fontsize=14)\n",
    "plt.xticks(fontsize=12);\n",
    "plt.yticks(fontsize=12);\n",
    "plt.xlabel(\"Years\");\n",
    "plt.ylabel(\"cumulative returns\");"
   ]
  },
  {
   "cell_type": "code",
   "execution_count": 16,
   "id": "c829a10b",
   "metadata": {},
   "outputs": [
    {
     "name": "stdout",
     "output_type": "stream",
     "text": [
      "The maximum draw down is -9.70\n"
     ]
    }
   ],
   "source": [
    "max_run=np.maximum.accumulate(cumulative_returns_MA.dropna())\n",
    "# ensure value isn't below 1\n",
    "max_run[max_run<1]=1\n",
    "# draw down percentage\n",
    "dd=(cumulative_returns_MA)/max_run-1\n",
    "max_dd=dd.min()*100\n",
    "print(\"The maximum draw down is %.2f\"%max_dd)"
   ]
  },
  {
   "cell_type": "code",
   "execution_count": 17,
   "id": "44d5808f",
   "metadata": {},
   "outputs": [
    {
     "data": {
      "image/png": "[encoded data removed]",
      "text/plain": [
       "<Figure size 720x504 with 1 Axes>"
      ]
     },
     "metadata": {
      "needs_background": "light"
     },
     "output_type": "display_data"
    }
   ],
   "source": [
    "# plot draw down\n",
    "plt.figure(figsize=(10,7));\n",
    "dd.plot(color='r');\n",
    "plt.grid();\n",
    "plt.fill_between(dd.index,dd.values,color='red')\n",
    "plt.title(\"Strategy Draw Down\",fontsize=14)\n",
    "plt.xticks(fontsize=12);\n",
    "plt.yticks(fontsize=12);\n",
    "plt.ylabel(\"Returns\");\n",
    "plt.xlabel(\"Years\");\n"
   ]
  },
  {
   "cell_type": "code",
   "execution_count": null,
   "id": "e6cbc98e",
   "metadata": {},
   "outputs": [],
   "source": []
  }
 ],
 "metadata": {
  "kernelspec": {
   "display_name": "Python 3",
   "language": "python",
   "name": "python3"
  },
  "language_info": {
   "codemirror_mode": {
    "name": "ipython",
    "version": 3
   },
   "file_extension": ".py",
   "mimetype": "text/x-python",
   "name": "python",
   "nbconvert_exporter": "python",
   "pygments_lexer": "ipython3",
   "version": "3.8.10"
  }
 },
 "nbformat": 4,
 "nbformat_minor": 5
}
